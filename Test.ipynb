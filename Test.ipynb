{
 "cells": [
  {
   "cell_type": "code",
   "execution_count": 1,
   "id": "65df46dd-d628-4005-8553-011262084bcc",
   "metadata": {},
   "outputs": [
    {
     "data": {
      "text/plain": [
       "'Siva Rama Raju'"
      ]
     },
     "execution_count": 1,
     "metadata": {},
     "output_type": "execute_result"
    }
   ],
   "source": [
    "import preprocess_gpak as gp\n",
    "gp.word_count(\"Siva Rama Raju\")\n",
    "gp.print_siva()"
   ]
  },
  {
   "cell_type": "code",
   "execution_count": 3,
   "id": "a7f11f3d-698c-4bc3-8bb1-c77304390313",
   "metadata": {},
   "outputs": [
    {
     "name": "stdout",
     "output_type": "stream",
     "text": [
      "srkr\n"
     ]
    }
   ],
   "source": [
    "text = \"SRKR\"\n",
    "lt = gp.to_lower_case(text)\n",
    "print(lt)"
   ]
  },
  {
   "cell_type": "code",
   "execution_count": 5,
   "id": "d8d8dc37-6858-4930-bbf6-6328c6e3d548",
   "metadata": {},
   "outputs": [
    {
     "name": "stdout",
     "output_type": "stream",
     "text": [
      "i am learning NLP.\n"
     ]
    }
   ],
   "source": [
    "import preprocess_gpak as gp\n",
    "\n",
    "text = \"I'm learning NLP.\"\n",
    "processed_text = gp.contraction_to_expansion(text)\n",
    "print(processed_text)  # Output: I am learning NLP."
   ]
  },
  {
   "cell_type": "code",
   "execution_count": 7,
   "id": "ef71c416-443c-412f-a258-9c3559c45ca3",
   "metadata": {},
   "outputs": [
    {
     "name": "stdout",
     "output_type": "stream",
     "text": [
      "Contact me at \n"
     ]
    }
   ],
   "source": [
    "import preprocess_gpak as gp\n",
    "\n",
    "text = \"Contact me at example@example.com\"\n",
    "processed_text = gp.remove_emails(text)\n",
    "print(processed_text)  # Output: Contact me at "
   ]
  },
  {
   "cell_type": "code",
   "execution_count": 9,
   "id": "b2d83376-356b-48e3-9277-51de9c04ebf1",
   "metadata": {},
   "outputs": [
    {
     "name": "stdout",
     "output_type": "stream",
     "text": [
      "Hello World!\n"
     ]
    }
   ],
   "source": [
    "import preprocess_gpak as gp\n",
    "\n",
    "text = \"<p>Hello World!</p>\"\n",
    "processed_text = gp.remove_html_tags(text)\n",
    "print(processed_text)  # Output: Hello World!"
   ]
  },
  {
   "cell_type": "code",
   "execution_count": 11,
   "id": "353c88a4-a4f6-4e2a-9a0a-47737eb4d391",
   "metadata": {},
   "outputs": [
    {
     "name": "stdout",
     "output_type": "stream",
     "text": [
      "run run\n"
     ]
    }
   ],
   "source": [
    "import preprocess_gpak as gp\n",
    "\n",
    "text = \"running runs\"\n",
    "processed_text = gp.lemmatize(text)\n",
    "print(processed_text)  # Output: run run"
   ]
  },
  {
   "cell_type": "code",
   "execution_count": 13,
   "id": "10b3d485-525a-47f3-acf9-c8443f41f274",
   "metadata": {},
   "outputs": [
    {
     "name": "stdout",
     "output_type": "stream",
     "text": [
      "pos\n"
     ]
    }
   ],
   "source": [
    "import preprocess_gpak as gp\n",
    "\n",
    "text = \"I love programming!\"\n",
    "sentiment = gp.sentiment_analysis(text)\n",
    "print(sentiment)"
   ]
  },
  {
   "cell_type": "code",
   "execution_count": 19,
   "id": "65fd9baa-59a5-423f-aa3c-40282b0ad259",
   "metadata": {},
   "outputs": [
    {
     "name": "stdout",
     "output_type": "stream",
     "text": [
      "I be love this nlp tutorial contact I at   visit\n"
     ]
    }
   ],
   "source": [
    "import preprocess_gpak as gp\n",
    "\n",
    "text = \"I'm loving this NLP tutorial! Contact me at pavamadityakumarg2004@gmail.com. Visit https://github.com/Pavan-Aditya-Kumar-Gorrela.\"\n",
    "cleaned_text = gp.clean_text(text)\n",
    "print(cleaned_text)"
   ]
  },
  {
   "cell_type": "code",
   "execution_count": 21,
   "id": "472d9d18-4ef9-4a85-a19f-34fc2718407a",
   "metadata": {},
   "outputs": [
    {
     "data": {
      "text/plain": [
       "{'word_count': 11,\n",
       " 'char_count': 119,\n",
       " 'avg_word_len': 10.818181818181818,\n",
       " 'stop_words_count': 3,\n",
       " 'hashtags_count': 0,\n",
       " 'mentions_count': 1,\n",
       " 'numerics_count': 0,\n",
       " 'upper_case_count': 1}"
      ]
     },
     "execution_count": 21,
     "metadata": {},
     "output_type": "execute_result"
    }
   ],
   "source": [
    "gp.extract_features(text)"
   ]
  },
  {
   "cell_type": "code",
   "execution_count": null,
   "id": "9e3b9c9e-922a-4a3e-9317-4603e09395b0",
   "metadata": {},
   "outputs": [],
   "source": []
  }
 ],
 "metadata": {
  "kernelspec": {
   "display_name": "Python 3 (ipykernel)",
   "language": "python",
   "name": "python3"
  },
  "language_info": {
   "codemirror_mode": {
    "name": "ipython",
    "version": 3
   },
   "file_extension": ".py",
   "mimetype": "text/x-python",
   "name": "python",
   "nbconvert_exporter": "python",
   "pygments_lexer": "ipython3",
   "version": "3.12.4"
  }
 },
 "nbformat": 4,
 "nbformat_minor": 5
}
